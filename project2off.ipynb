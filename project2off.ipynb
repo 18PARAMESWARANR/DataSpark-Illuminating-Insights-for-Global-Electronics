{
 "cells": [
  {
   "cell_type": "code",
   "execution_count": null,
   "id": "b1299304-2c61-4410-889c-8019e89ab83f",
   "metadata": {
    "scrolled": true
   },
   "outputs": [],
   "source": [
    "!pip install pandas"
   ]
  },
  {
   "cell_type": "code",
   "execution_count": 1,
   "id": "796b3510-9b3f-4663-9744-52ba23a9aa25",
   "metadata": {},
   "outputs": [],
   "source": [
    "import pandas as pd"
   ]
  },
  {
   "cell_type": "code",
   "execution_count": null,
   "id": "089ca3dc-88c5-4749-9eba-d3be7204459b",
   "metadata": {},
   "outputs": [],
   "source": [
    "#read csv file\n",
    "dataA = pd.read_csv(r\"C:\\PARTHI\\PROJECT - 2\\Customers.csv\", encoding=\"latin1\")"
   ]
  },
  {
   "cell_type": "code",
   "execution_count": null,
   "id": "02023a67-6bbb-440f-b562-5b4ecd8ff890",
   "metadata": {},
   "outputs": [],
   "source": [
    "dataA"
   ]
  },
  {
   "cell_type": "code",
   "execution_count": null,
   "id": "4060b22a-42f2-4ef1-acba-c7e11b0d38b7",
   "metadata": {},
   "outputs": [],
   "source": [
    "dataA.isnull().sum()"
   ]
  },
  {
   "cell_type": "code",
   "execution_count": null,
   "id": "c7e26855-a5df-40e3-a0a4-69d7b9676e95",
   "metadata": {},
   "outputs": [],
   "source": [
    "# Check for missing values\n",
    "missing_values = dataA.isnull().sum()\n",
    "\n",
    "# Display columns with missing values\n",
    "print(missing_values[missing_values > 0])"
   ]
  },
  {
   "cell_type": "code",
   "execution_count": null,
   "id": "c1b6d2c0-b802-4f33-b945-897f438cb65c",
   "metadata": {},
   "outputs": [],
   "source": [
    "# Drop the 'StateCode' column permanently\n",
    "dataA = dataA.drop(columns=['State Code'])"
   ]
  },
  {
   "cell_type": "code",
   "execution_count": null,
   "id": "dfb92b03-b8f4-4d23-beef-9fb909f88946",
   "metadata": {
    "scrolled": true
   },
   "outputs": [],
   "source": [
    "#dulicates\n",
    "print(dataA.duplicated().sum())"
   ]
  },
  {
   "cell_type": "code",
   "execution_count": 12,
   "id": "1108e9e9-fddf-4b9c-bde2-18e1b3177d45",
   "metadata": {},
   "outputs": [],
   "source": [
    "#changes the name column to lower cases\n",
    "dataA['Name'] = dataA['Name'].str.lower()"
   ]
  },
  {
   "cell_type": "code",
   "execution_count": 13,
   "id": "97ce0e7a-1d81-45ae-9a9c-4db3a989ad03",
   "metadata": {},
   "outputs": [],
   "source": [
    "dataA['City'] = dataA['City'].str.lower()"
   ]
  },
  {
   "cell_type": "code",
   "execution_count": 14,
   "id": "60d500ac-4321-49aa-950a-0175ba301476",
   "metadata": {},
   "outputs": [],
   "source": [
    "dataA['State'] = dataA['State'].str.lower()\n",
    "dataA['Country '] = dataA['Country'].str.lower()\n",
    "dataA['Continent'] = dataA['Continent'].str.lower()\n",
    "dataA['Gender'] = dataA['Gender'].str.lower()"
   ]
  },
  {
   "cell_type": "code",
   "execution_count": 15,
   "id": "f1939af8-8d22-4d74-ba3f-df6838551d0e",
   "metadata": {},
   "outputs": [],
   "source": [
    "#formats dates correctly\n",
    "dataA['Birthday'] = pd.to_datetime(dataA['Birthday'], errors='coerce')"
   ]
  },
  {
   "cell_type": "code",
   "execution_count": 16,
   "id": "961b3532-9538-430e-af9a-d456b9a7ef9f",
   "metadata": {},
   "outputs": [],
   "source": [
    "#ensures consistent categorical values\n",
    "dataA['State'] = dataA['State'].str.strip().str.title()\n",
    "dataA['Name'] = dataA['Name'].str.strip().str.title()\n",
    "dataA['Country'] = dataA['Country'].str.strip().str.title()\n",
    "dataA['Continent'] = dataA['Continent'].str.strip().str.title()\n",
    "dataA['Gender'] = dataA['Gender'].str.strip().str.title()\n",
    "dataA['City'] = dataA['City'].str.strip().str.title()\n",
    "dataA['Country'] = dataA['Country'].str.strip().str.title()"
   ]
  },
  {
   "cell_type": "code",
   "execution_count": 40,
   "id": "6576efe6-abbe-48dd-a25e-a85f5a92ccb8",
   "metadata": {},
   "outputs": [
    {
     "name": "stdout",
     "output_type": "stream",
     "text": [
      "[]\n"
     ]
    }
   ],
   "source": [
    "# Find duplicate columns manually\n",
    "duplicate_cols = []\n",
    "for col in dataA.columns:\n",
    "    for other_col in dataA.columns:\n",
    "        if col != other_col and dataA[col].equals(dataA[other_col]):\n",
    "            duplicate_cols.append((col, other_col))\n",
    "\n",
    "print(duplicate_cols)"
   ]
  },
  {
   "cell_type": "code",
   "execution_count": null,
   "id": "e79e9f18",
   "metadata": {},
   "outputs": [],
   "source": [
    "# Transpose, find duplicates, and drop them\n",
    "dataA = dataA.loc[:, ~dataA.T.duplicated()]"
   ]
  },
  {
   "cell_type": "code",
   "execution_count": 25,
   "id": "487a734c",
   "metadata": {},
   "outputs": [],
   "source": [
    "dataA.to_csv(r\"C:\\PARTHI\\PROJECT - 2\\Customers.csv\", index=False)"
   ]
  },
  {
   "cell_type": "code",
   "execution_count": 24,
   "id": "5e116c24",
   "metadata": {},
   "outputs": [
    {
     "data": {
      "text/html": [
       "<div>\n",
       "<style scoped>\n",
       "    .dataframe tbody tr th:only-of-type {\n",
       "        vertical-align: middle;\n",
       "    }\n",
       "\n",
       "    .dataframe tbody tr th {\n",
       "        vertical-align: top;\n",
       "    }\n",
       "\n",
       "    .dataframe thead th {\n",
       "        text-align: right;\n",
       "    }\n",
       "</style>\n",
       "<table border=\"1\" class=\"dataframe\">\n",
       "  <thead>\n",
       "    <tr style=\"text-align: right;\">\n",
       "      <th></th>\n",
       "      <th>CustomerKey</th>\n",
       "      <th>Gender</th>\n",
       "      <th>Name</th>\n",
       "      <th>City</th>\n",
       "      <th>State</th>\n",
       "      <th>Zip Code</th>\n",
       "      <th>Country</th>\n",
       "      <th>Continent</th>\n",
       "      <th>Birthday</th>\n",
       "    </tr>\n",
       "  </thead>\n",
       "  <tbody>\n",
       "    <tr>\n",
       "      <th>0</th>\n",
       "      <td>301</td>\n",
       "      <td>Female</td>\n",
       "      <td>Lilly Harding</td>\n",
       "      <td>Wandearah East</td>\n",
       "      <td>South Australia</td>\n",
       "      <td>5523</td>\n",
       "      <td>Australia</td>\n",
       "      <td>Australia</td>\n",
       "      <td>1939-07-03</td>\n",
       "    </tr>\n",
       "    <tr>\n",
       "      <th>1</th>\n",
       "      <td>325</td>\n",
       "      <td>Female</td>\n",
       "      <td>Madison Hull</td>\n",
       "      <td>Mount Budd</td>\n",
       "      <td>Western Australia</td>\n",
       "      <td>6522</td>\n",
       "      <td>Australia</td>\n",
       "      <td>Australia</td>\n",
       "      <td>1979-09-27</td>\n",
       "    </tr>\n",
       "    <tr>\n",
       "      <th>2</th>\n",
       "      <td>554</td>\n",
       "      <td>Female</td>\n",
       "      <td>Claire Ferres</td>\n",
       "      <td>Winjallok</td>\n",
       "      <td>Victoria</td>\n",
       "      <td>3380</td>\n",
       "      <td>Australia</td>\n",
       "      <td>Australia</td>\n",
       "      <td>1947-05-26</td>\n",
       "    </tr>\n",
       "    <tr>\n",
       "      <th>3</th>\n",
       "      <td>786</td>\n",
       "      <td>Male</td>\n",
       "      <td>Jai Poltpalingada</td>\n",
       "      <td>Middle River</td>\n",
       "      <td>South Australia</td>\n",
       "      <td>5223</td>\n",
       "      <td>Australia</td>\n",
       "      <td>Australia</td>\n",
       "      <td>1957-09-17</td>\n",
       "    </tr>\n",
       "    <tr>\n",
       "      <th>4</th>\n",
       "      <td>1042</td>\n",
       "      <td>Male</td>\n",
       "      <td>Aidan Pankhurst</td>\n",
       "      <td>Tawonga South</td>\n",
       "      <td>Victoria</td>\n",
       "      <td>3698</td>\n",
       "      <td>Australia</td>\n",
       "      <td>Australia</td>\n",
       "      <td>1965-11-19</td>\n",
       "    </tr>\n",
       "    <tr>\n",
       "      <th>...</th>\n",
       "      <td>...</td>\n",
       "      <td>...</td>\n",
       "      <td>...</td>\n",
       "      <td>...</td>\n",
       "      <td>...</td>\n",
       "      <td>...</td>\n",
       "      <td>...</td>\n",
       "      <td>...</td>\n",
       "      <td>...</td>\n",
       "    </tr>\n",
       "    <tr>\n",
       "      <th>15261</th>\n",
       "      <td>2099600</td>\n",
       "      <td>Female</td>\n",
       "      <td>Denisa DuâKovã¡</td>\n",
       "      <td>Houston</td>\n",
       "      <td>Texas</td>\n",
       "      <td>77017</td>\n",
       "      <td>United States</td>\n",
       "      <td>North America</td>\n",
       "      <td>1936-03-25</td>\n",
       "    </tr>\n",
       "    <tr>\n",
       "      <th>15262</th>\n",
       "      <td>2099618</td>\n",
       "      <td>Male</td>\n",
       "      <td>Justin Solã³Rzano</td>\n",
       "      <td>Mclean</td>\n",
       "      <td>Virginia</td>\n",
       "      <td>22101</td>\n",
       "      <td>United States</td>\n",
       "      <td>North America</td>\n",
       "      <td>1992-02-16</td>\n",
       "    </tr>\n",
       "    <tr>\n",
       "      <th>15263</th>\n",
       "      <td>2099758</td>\n",
       "      <td>Male</td>\n",
       "      <td>Svend Petrussen</td>\n",
       "      <td>Wilmington</td>\n",
       "      <td>North Carolina</td>\n",
       "      <td>28405</td>\n",
       "      <td>United States</td>\n",
       "      <td>North America</td>\n",
       "      <td>1937-11-09</td>\n",
       "    </tr>\n",
       "    <tr>\n",
       "      <th>15264</th>\n",
       "      <td>2099862</td>\n",
       "      <td>Female</td>\n",
       "      <td>Lorenza Rush</td>\n",
       "      <td>Riverside</td>\n",
       "      <td>California</td>\n",
       "      <td>92501</td>\n",
       "      <td>United States</td>\n",
       "      <td>North America</td>\n",
       "      <td>1937-10-12</td>\n",
       "    </tr>\n",
       "    <tr>\n",
       "      <th>15265</th>\n",
       "      <td>2099937</td>\n",
       "      <td>Male</td>\n",
       "      <td>Zygmunt Kaminski</td>\n",
       "      <td>Bloomfield Township</td>\n",
       "      <td>Michigan</td>\n",
       "      <td>48302</td>\n",
       "      <td>United States</td>\n",
       "      <td>North America</td>\n",
       "      <td>1965-08-18</td>\n",
       "    </tr>\n",
       "  </tbody>\n",
       "</table>\n",
       "<p>15266 rows × 9 columns</p>\n",
       "</div>"
      ],
      "text/plain": [
       "       CustomerKey  Gender               Name                 City  \\\n",
       "0              301  Female      Lilly Harding       Wandearah East   \n",
       "1              325  Female       Madison Hull           Mount Budd   \n",
       "2              554  Female      Claire Ferres            Winjallok   \n",
       "3              786    Male  Jai Poltpalingada         Middle River   \n",
       "4             1042    Male    Aidan Pankhurst        Tawonga South   \n",
       "...            ...     ...                ...                  ...   \n",
       "15261      2099600  Female   Denisa DuâKovã¡              Houston   \n",
       "15262      2099618    Male  Justin Solã³Rzano               Mclean   \n",
       "15263      2099758    Male    Svend Petrussen           Wilmington   \n",
       "15264      2099862  Female       Lorenza Rush            Riverside   \n",
       "15265      2099937    Male   Zygmunt Kaminski  Bloomfield Township   \n",
       "\n",
       "                   State Zip Code        Country      Continent   Birthday  \n",
       "0        South Australia     5523      Australia      Australia 1939-07-03  \n",
       "1      Western Australia     6522      Australia      Australia 1979-09-27  \n",
       "2               Victoria     3380      Australia      Australia 1947-05-26  \n",
       "3        South Australia     5223      Australia      Australia 1957-09-17  \n",
       "4               Victoria     3698      Australia      Australia 1965-11-19  \n",
       "...                  ...      ...            ...            ...        ...  \n",
       "15261              Texas    77017  United States  North America 1936-03-25  \n",
       "15262           Virginia    22101  United States  North America 1992-02-16  \n",
       "15263     North Carolina    28405  United States  North America 1937-11-09  \n",
       "15264         California    92501  United States  North America 1937-10-12  \n",
       "15265           Michigan    48302  United States  North America 1965-08-18  \n",
       "\n",
       "[15266 rows x 9 columns]"
      ]
     },
     "execution_count": 24,
     "metadata": {},
     "output_type": "execute_result"
    }
   ],
   "source": [
    "dataA"
   ]
  },
  {
   "cell_type": "code",
   "execution_count": null,
   "id": "67cb908b",
   "metadata": {},
   "outputs": [],
   "source": [
    "!pip install pandas"
   ]
  },
  {
   "cell_type": "code",
   "execution_count": 3,
   "id": "49b10a43",
   "metadata": {},
   "outputs": [],
   "source": [
    "import pandas as pd"
   ]
  },
  {
   "cell_type": "code",
   "execution_count": 4,
   "id": "293f205b",
   "metadata": {},
   "outputs": [],
   "source": [
    "#read csv file\n",
    "dataB = pd.read_csv(r\"C:\\PARTHI\\PROJECT - 2\\Data_Dictionary.csv\", encoding=\"latin1\")"
   ]
  },
  {
   "cell_type": "code",
   "execution_count": null,
   "id": "577eeac4",
   "metadata": {},
   "outputs": [],
   "source": [
    "dataB"
   ]
  },
  {
   "cell_type": "code",
   "execution_count": null,
   "id": "2ed235ce",
   "metadata": {},
   "outputs": [],
   "source": [
    "print(dataB.isnull().sum())"
   ]
  },
  {
   "cell_type": "code",
   "execution_count": 7,
   "id": "9eb7dfb1",
   "metadata": {},
   "outputs": [],
   "source": [
    "dataB[\"Table\"]=dataB[\"Table\"].str.lower()\n",
    "dataB[\"Field\"]=dataB[\"Field\"].str.lower()\n",
    "dataB[\"Description\"]=dataB[\"Description\"].str.lower()"
   ]
  },
  {
   "cell_type": "code",
   "execution_count": 9,
   "id": "79cb6697",
   "metadata": {},
   "outputs": [],
   "source": [
    "dataB[\"Table\"]=dataB[\"Table\"].str.strip()\n",
    "dataB[\"Table\"]=dataB[\"Table\"].str.replace(r\"[^a-zA-Z0-9_ ]\",\"\",regex=True)\n",
    "dataB[\"Field\"]=dataB[\"Field\"].str.strip()\n",
    "dataB[\"Field\"]=dataB[\"Field\"].str.replace(r\"[^a-zA-Z0-9_ ]\",\"\",regex=True)\n",
    "dataB[\"Description\"]=dataB[\"Description\"].str.strip()\n",
    "dataB[\"Description\"]=dataB[\"Description\"].str.replace(r\"[^a-zA-Z0-9_ ]\",\"\",regex=True)\n"
   ]
  },
  {
   "cell_type": "code",
   "execution_count": null,
   "id": "05371a51",
   "metadata": {},
   "outputs": [],
   "source": [
    "dataB"
   ]
  },
  {
   "cell_type": "code",
   "execution_count": null,
   "id": "396998e2",
   "metadata": {},
   "outputs": [],
   "source": [
    "#dulicates\n",
    "print(dataB.duplicated().sum())"
   ]
  },
  {
   "cell_type": "code",
   "execution_count": null,
   "id": "86be68f2",
   "metadata": {},
   "outputs": [],
   "source": [
    "print(dataB[\"Field\"].unique())"
   ]
  },
  {
   "cell_type": "code",
   "execution_count": null,
   "id": "38f17a56",
   "metadata": {},
   "outputs": [],
   "source": [
    "print(dataB[\"Description\"].unique())"
   ]
  },
  {
   "cell_type": "code",
   "execution_count": null,
   "id": "3c669866",
   "metadata": {},
   "outputs": [],
   "source": [
    "print(dataB[\"Table\"].unique())"
   ]
  },
  {
   "cell_type": "code",
   "execution_count": 17,
   "id": "c157918b",
   "metadata": {},
   "outputs": [],
   "source": [
    "dataB[\"Field\"]=dataB[\"Field\"].str.title()\n",
    "dataB[\"Table\"]=dataB[\"Table\"].str.title()\n",
    "dataB[\"Description\"]=dataB[\"Description\"].str.title()"
   ]
  },
  {
   "cell_type": "code",
   "execution_count": 22,
   "id": "f81b8734",
   "metadata": {},
   "outputs": [],
   "source": [
    "import pandas as pd  \n",
    "\n",
    "dataB = pd.read_csv(r\"C:\\PARTHI\\PROJECT - 2\\Data_Dictionary.csv\", encoding=\"latin1\")"
   ]
  },
  {
   "cell_type": "code",
   "execution_count": 23,
   "id": "35d74201",
   "metadata": {},
   "outputs": [],
   "source": [
    "dataB.to_csv(r\"C:\\PARTHI\\PROJECT - 2\\Data_Dictionary_Cleaned.csv\", index=False, encoding=\"latin1\")"
   ]
  },
  {
   "cell_type": "code",
   "execution_count": 24,
   "id": "cf8b5284",
   "metadata": {},
   "outputs": [],
   "source": [
    "#dataA for small corecction\n",
    "import pandas as pd\n",
    "\n",
    "# Load the original CSV file\n",
    "dataA = pd.read_csv(r\"C:\\PARTHI\\PROJECT - 2\\Customers.csv\")"
   ]
  },
  {
   "cell_type": "code",
   "execution_count": null,
   "id": "a14a3009",
   "metadata": {},
   "outputs": [],
   "source": [
    "# Save the modified data as a new file (keeping the original intact)\n",
    "dataA.to_csv(r\"C:\\PARTHI\\PROJECT - 2\\Customers_Modified.csv\", index=False)\n",
    "print(\"Modified CSV saved as 'Customers_Modified.csv'. Original file remains unchanged.\")"
   ]
  },
  {
   "cell_type": "code",
   "execution_count": null,
   "id": "5c2f8654",
   "metadata": {},
   "outputs": [],
   "source": [
    "dataA"
   ]
  },
  {
   "cell_type": "code",
   "execution_count": 27,
   "id": "98d71d24",
   "metadata": {},
   "outputs": [],
   "source": [
    "#dataC\n",
    "import pandas as pd\n",
    "#read csv file\n",
    "datac = pd.read_csv(r\"C:\\PARTHI\\PROJECT - 2\\Exchange_Rates.csv\", encoding=\"latin1\")"
   ]
  },
  {
   "cell_type": "code",
   "execution_count": null,
   "id": "0b7d32d2",
   "metadata": {},
   "outputs": [],
   "source": [
    "datac"
   ]
  },
  {
   "cell_type": "code",
   "execution_count": null,
   "id": "6acad4d7",
   "metadata": {},
   "outputs": [],
   "source": [
    "print(datac.dtypes)"
   ]
  },
  {
   "cell_type": "code",
   "execution_count": 32,
   "id": "b7514a5a",
   "metadata": {},
   "outputs": [],
   "source": [
    "datac['Date'] = pd.to_datetime(datac['Date'])"
   ]
  },
  {
   "cell_type": "code",
   "execution_count": null,
   "id": "92714284",
   "metadata": {},
   "outputs": [],
   "source": [
    "print(datac['Currency'].unique())"
   ]
  },
  {
   "cell_type": "code",
   "execution_count": null,
   "id": "5b0be0ba",
   "metadata": {},
   "outputs": [],
   "source": [
    "print(datac.isnull().sum())"
   ]
  },
  {
   "cell_type": "code",
   "execution_count": null,
   "id": "582ae9b9",
   "metadata": {},
   "outputs": [],
   "source": [
    "print(datac.duplicated().sum())"
   ]
  },
  {
   "cell_type": "code",
   "execution_count": 39,
   "id": "7b0f6378",
   "metadata": {},
   "outputs": [],
   "source": [
    "# Remove extra spaces\n",
    "datac['Currency'] = datac['Currency'].str.strip()"
   ]
  },
  {
   "cell_type": "code",
   "execution_count": 41,
   "id": "6be44577",
   "metadata": {},
   "outputs": [],
   "source": [
    "datac.to_csv(\"Cleaned_Exchange_Rates.csv\", index=False)"
   ]
  },
  {
   "cell_type": "code",
   "execution_count": 42,
   "id": "47972448",
   "metadata": {},
   "outputs": [],
   "source": [
    "datac.to_csv(r\"C:\\PARTHI\\PROJECT - 2\\Exchange_Rates_Cleaned.csv\", index=False, encoding=\"latin1\")"
   ]
  },
  {
   "cell_type": "code",
   "execution_count": 73,
   "id": "bc25fe68",
   "metadata": {},
   "outputs": [],
   "source": [
    "#dataD\n",
    "import pandas as pd\n",
    "dataD=pd.read_csv(r\"C:\\PARTHI\\PROJECT - 2\\Products.csv\",encoding=\"latin1\")"
   ]
  },
  {
   "cell_type": "code",
   "execution_count": null,
   "id": "4f80f966",
   "metadata": {},
   "outputs": [],
   "source": [
    "dataD"
   ]
  },
  {
   "cell_type": "code",
   "execution_count": null,
   "id": "49dbaba8",
   "metadata": {},
   "outputs": [],
   "source": [
    "#data type\n",
    "print(dataD.dtypes)"
   ]
  },
  {
   "cell_type": "code",
   "execution_count": null,
   "id": "479c2bbb",
   "metadata": {},
   "outputs": [],
   "source": [
    "dataD.duplicated().sum()"
   ]
  },
  {
   "cell_type": "code",
   "execution_count": 77,
   "id": "a3e9cf76",
   "metadata": {},
   "outputs": [
    {
     "data": {
      "text/plain": [
       "ProductKey        0\n",
       "Product Name      0\n",
       "Brand             0\n",
       "Color             0\n",
       "Unit Cost USD     0\n",
       "Unit Price USD    0\n",
       "SubcategoryKey    0\n",
       "Subcategory       0\n",
       "CategoryKey       0\n",
       "Category          0\n",
       "dtype: int64"
      ]
     },
     "execution_count": 77,
     "metadata": {},
     "output_type": "execute_result"
    }
   ],
   "source": [
    "dataD.isnull().sum()"
   ]
  },
  {
   "cell_type": "code",
   "execution_count": 78,
   "id": "f43d67f5",
   "metadata": {},
   "outputs": [],
   "source": [
    "dataD.columns = dataD.columns.str.strip()\n",
    "dataD['Product Name'] = dataD['Product Name'].str.strip()"
   ]
  },
  {
   "cell_type": "code",
   "execution_count": 79,
   "id": "801483dc",
   "metadata": {},
   "outputs": [],
   "source": [
    "dataD['Product Name'] = dataD['Product Name'].str.lower()"
   ]
  },
  {
   "cell_type": "code",
   "execution_count": 80,
   "id": "f9841172",
   "metadata": {},
   "outputs": [],
   "source": [
    "dataD['Product Name'] = dataD['Product Name'].str.title()\n",
    "dataD['Brand'] = dataD['Brand'].str.title()\n",
    "dataD['Color'] = dataD['Color'].str.title()\n",
    "dataD['Category'] = dataD['Category'].str.title()"
   ]
  },
  {
   "cell_type": "code",
   "execution_count": null,
   "id": "c435add5",
   "metadata": {},
   "outputs": [],
   "source": [
    "print(dataD.dtypes)"
   ]
  },
  {
   "cell_type": "code",
   "execution_count": 83,
   "id": "00e4ecdd",
   "metadata": {},
   "outputs": [
    {
     "name": "stdout",
     "output_type": "stream",
     "text": [
      "ProductKey: 2517 unique values\n",
      "Product Name: 2517 unique values\n",
      "Brand: 11 unique values\n",
      "Color: 16 unique values\n",
      "Unit Cost USD: 480 unique values\n",
      "Unit Price USD: 426 unique values\n",
      "SubcategoryKey: 32 unique values\n",
      "Subcategory: 32 unique values\n",
      "CategoryKey: 8 unique values\n",
      "Category: 8 unique values\n"
     ]
    }
   ],
   "source": [
    "for col in dataD.columns:\n",
    "    print(f\"{col}: {dataD[col].nunique()} unique values\")"
   ]
  },
  {
   "cell_type": "code",
   "execution_count": null,
   "id": "38a06a22",
   "metadata": {},
   "outputs": [],
   "source": [
    "dataD['Unit Price USD'] = dataD['Unit Price USD'].str.replace('[\\$,]', '', regex=True).str.strip().astype(float)"
   ]
  },
  {
   "cell_type": "code",
   "execution_count": null,
   "id": "b6b12811",
   "metadata": {},
   "outputs": [],
   "source": [
    "dataD['Unit Cost USD'] = dataD['Unit Cost USD'].str.replace('[\\$,]', '', regex=True).str.strip().astype(float)"
   ]
  },
  {
   "cell_type": "code",
   "execution_count": 94,
   "id": "c3f58c81",
   "metadata": {},
   "outputs": [],
   "source": [
    "dataD.to_csv(r\"C:\\PARTHI\\PROJECT - 2\\Products_Cleaned.csv\", index=False, encoding=\"latin1\")"
   ]
  },
  {
   "cell_type": "code",
   "execution_count": 95,
   "id": "ba984dd0",
   "metadata": {},
   "outputs": [],
   "source": [
    "#dataE\n",
    "import pandas as pd\n",
    "dataE=pd.read_csv(r\"C:\\PARTHI\\PROJECT - 2\\Sales.csv\",encoding=\"latin1\")"
   ]
  },
  {
   "cell_type": "code",
   "execution_count": null,
   "id": "bc384be4",
   "metadata": {},
   "outputs": [],
   "source": [
    "dataE.dtypes"
   ]
  },
  {
   "cell_type": "code",
   "execution_count": 98,
   "id": "e0142043",
   "metadata": {},
   "outputs": [],
   "source": [
    "dataE['Order Date'] = pd.to_datetime(dataE['Order Date'])"
   ]
  },
  {
   "cell_type": "code",
   "execution_count": 100,
   "id": "9385cfc0",
   "metadata": {},
   "outputs": [],
   "source": [
    "dataE['Delivery Date'] = pd.to_datetime(dataE['Delivery Date'])"
   ]
  },
  {
   "cell_type": "code",
   "execution_count": 102,
   "id": "7b763d88",
   "metadata": {},
   "outputs": [
    {
     "name": "stdout",
     "output_type": "stream",
     "text": [
      "Order Number: 26326 unique values\n",
      "Line Item: 7 unique values\n",
      "Order Date: 1641 unique values\n",
      "Delivery Date: 1492 unique values\n",
      "CustomerKey: 11887 unique values\n",
      "StoreKey: 58 unique values\n",
      "ProductKey: 2492 unique values\n",
      "Quantity: 10 unique values\n",
      "Currency Code: 5 unique values\n"
     ]
    }
   ],
   "source": [
    "for col in dataE.columns:\n",
    "    print(f\"{col}: {dataE[col].nunique()} unique values\")"
   ]
  },
  {
   "cell_type": "code",
   "execution_count": null,
   "id": "1a11dbc7",
   "metadata": {},
   "outputs": [],
   "source": [
    "dataE['CustomerKey'].unique().sum()"
   ]
  },
  {
   "cell_type": "code",
   "execution_count": 105,
   "id": "9b1ac8b6",
   "metadata": {},
   "outputs": [
    {
     "name": "stdout",
     "output_type": "stream",
     "text": [
      "Order Number         0\n",
      "Line Item            0\n",
      "Order Date           0\n",
      "Delivery Date    49719\n",
      "CustomerKey          0\n",
      "StoreKey             0\n",
      "ProductKey           0\n",
      "Quantity             0\n",
      "Currency Code        0\n",
      "dtype: int64\n"
     ]
    }
   ],
   "source": [
    "print(dataE.isnull().sum())"
   ]
  },
  {
   "cell_type": "code",
   "execution_count": null,
   "id": "60dd9021",
   "metadata": {},
   "outputs": [],
   "source": [
    "print(dataE['Delivery Date'])"
   ]
  },
  {
   "cell_type": "code",
   "execution_count": 117,
   "id": "f3c1dbe3",
   "metadata": {},
   "outputs": [
    {
     "data": {
      "text/plain": [
       "array(['CAD', 'USD', 'GBP', 'EUR', 'AUD'], dtype=object)"
      ]
     },
     "execution_count": 117,
     "metadata": {},
     "output_type": "execute_result"
    }
   ],
   "source": [
    "dataE['Currency Code'].unique()"
   ]
  },
  {
   "cell_type": "code",
   "execution_count": 118,
   "id": "23b6eb35",
   "metadata": {},
   "outputs": [
    {
     "name": "stdout",
     "output_type": "stream",
     "text": [
      "      Order Date Delivery Date Currency Code\n",
      "0     2016-01-01           NaT           CAD\n",
      "1     2016-01-01    2016-01-13           USD\n",
      "2     2016-01-01    2016-01-13           USD\n",
      "3     2016-01-01    2016-01-12           CAD\n",
      "4     2016-01-01    2016-01-12           CAD\n",
      "...          ...           ...           ...\n",
      "62879 2021-02-20    2021-03-02           USD\n",
      "62880 2021-02-20    2021-02-24           EUR\n",
      "62881 2021-02-20    2021-02-23           CAD\n",
      "62882 2021-02-20    2021-02-23           CAD\n",
      "62883 2021-02-20    2021-02-23           CAD\n",
      "\n",
      "[62884 rows x 3 columns]\n"
     ]
    }
   ],
   "source": [
    "# Apply the condition and fill NaN values in Delivery Date\n",
    "dataE.loc[\n",
    "    (dataE['Delivery Date'].isna()) & (dataE['Currency Code'].isin(['USD', 'AUD'])), \n",
    "    'Delivery Date'\n",
    "] = dataE['Order Date'] + pd.Timedelta(days=10)\n",
    "\n",
    "# Display updated DataFrame\n",
    "print(dataE[['Order Date', 'Delivery Date', 'Currency Code']])"
   ]
  },
  {
   "cell_type": "code",
   "execution_count": 123,
   "id": "48e7f116",
   "metadata": {},
   "outputs": [
    {
     "name": "stdout",
     "output_type": "stream",
     "text": [
      "Order Number     0\n",
      "Line Item        0\n",
      "Order Date       0\n",
      "Delivery Date    0\n",
      "CustomerKey      0\n",
      "StoreKey         0\n",
      "ProductKey       0\n",
      "Quantity         0\n",
      "Currency Code    0\n",
      "dtype: int64\n"
     ]
    }
   ],
   "source": [
    "print(dataE.isnull().sum())"
   ]
  },
  {
   "cell_type": "code",
   "execution_count": 120,
   "id": "9fe2a306",
   "metadata": {},
   "outputs": [],
   "source": [
    "dataE.loc[\n",
    "    (dataE['Delivery Date'].isna()) & (dataE['Currency Code'].isin(['EUR', 'GBP'])), \n",
    "    'Delivery Date'\n",
    "] = dataE['Order Date'] + pd.Timedelta(days=7)"
   ]
  },
  {
   "cell_type": "code",
   "execution_count": 122,
   "id": "f75b7eaf",
   "metadata": {},
   "outputs": [],
   "source": [
    "dataE.loc[\n",
    "    (dataE['Delivery Date'].isna()) & (dataE['Currency Code'].isin(['CAD'])), \n",
    "    'Delivery Date'\n",
    "] = dataE['Order Date'] + pd.Timedelta(days=8)"
   ]
  },
  {
   "cell_type": "code",
   "execution_count": 125,
   "id": "13d737ce",
   "metadata": {},
   "outputs": [],
   "source": [
    "dataD.to_csv(r\"C:\\PARTHI\\PROJECT - 2\\Sales_Cleaned.csv\", index=False, encoding=\"latin1\")"
   ]
  },
  {
   "cell_type": "code",
   "execution_count": null,
   "id": "e153d690",
   "metadata": {},
   "outputs": [],
   "source": [
    "#dataF\n",
    "dataF=pd.read_csv(r\"C:\\PARTHI\\PROJECT - 2\\Stores.csv\", encoding=\"latin1\")"
   ]
  },
  {
   "cell_type": "code",
   "execution_count": null,
   "id": "7b9178c8",
   "metadata": {},
   "outputs": [],
   "source": [
    "dataF.dtypes"
   ]
  },
  {
   "cell_type": "code",
   "execution_count": 130,
   "id": "51b8ef57",
   "metadata": {},
   "outputs": [],
   "source": [
    "dataF['Open Date'] = pd.to_datetime(dataF['Open Date'])"
   ]
  },
  {
   "cell_type": "code",
   "execution_count": 134,
   "id": "3d872f45",
   "metadata": {},
   "outputs": [
    {
     "name": "stdout",
     "output_type": "stream",
     "text": [
      "[ 1  2  3  4  5  6  7  8  9 10 11 12 13 14 15 16 17 18 19 20 21 22 23 24\n",
      " 25 26 27 28 29 30 31 32 33 34 35 36 37 38 39 40 41 42 43 44 45 46 47 48\n",
      " 49 50 51 52 53 54 55 56 57 58 59 60 61 62 63 64 65 66  0]\n"
     ]
    }
   ],
   "source": [
    "print(dataF['StoreKey'].unique())"
   ]
  },
  {
   "cell_type": "code",
   "execution_count": 137,
   "id": "fe1fe3eb",
   "metadata": {},
   "outputs": [
    {
     "name": "stdout",
     "output_type": "stream",
     "text": [
      "StoreKey         0\n",
      "Country          0\n",
      "State            0\n",
      "Square Meters    0\n",
      "Open Date        0\n",
      "dtype: int64\n"
     ]
    }
   ],
   "source": [
    "print(dataF.isnull().sum())"
   ]
  },
  {
   "cell_type": "code",
   "execution_count": 136,
   "id": "6729c800",
   "metadata": {},
   "outputs": [],
   "source": [
    "dataF.dropna(subset=['Square Meters'],inplace=True)"
   ]
  },
  {
   "cell_type": "code",
   "execution_count": null,
   "id": "e90d95cf",
   "metadata": {},
   "outputs": [],
   "source": [
    "dataF.duplicated().sum()"
   ]
  },
  {
   "cell_type": "code",
   "execution_count": 146,
   "id": "834d7009",
   "metadata": {},
   "outputs": [],
   "source": [
    "dataF.columns = dataF.columns.str.strip()\n",
    "dataF['Country'] = dataF['Country'].str.strip()\n",
    "dataF.columns = dataF.columns.str.strip()\n",
    "dataF['State'] = dataF['State'].str.strip()"
   ]
  },
  {
   "cell_type": "code",
   "execution_count": 148,
   "id": "d205097d",
   "metadata": {},
   "outputs": [],
   "source": [
    "dataF['Country'] = dataF['Country'].str.lower()\n",
    "dataF['State'] = dataF['State'].str.lower()"
   ]
  },
  {
   "cell_type": "code",
   "execution_count": 150,
   "id": "4a83c91b",
   "metadata": {},
   "outputs": [],
   "source": [
    "dataF['Country'] = dataF['Country'].str.title()\n",
    "dataF['State'] = dataF['State'].str.title()\n"
   ]
  },
  {
   "cell_type": "code",
   "execution_count": 152,
   "id": "015d9366",
   "metadata": {},
   "outputs": [],
   "source": [
    "dataF.to_csv(r\"C:\\PARTHI\\PROJECT - 2\\Stores_Cleaned.csv\", index=False, encoding=\"latin1\")"
   ]
  },
  {
   "cell_type": "code",
   "execution_count": null,
   "id": "6ff5e777",
   "metadata": {},
   "outputs": [],
   "source": []
  }
 ],
 "metadata": {
  "kernelspec": {
   "display_name": "Python 3",
   "language": "python",
   "name": "python3"
  },
  "language_info": {
   "codemirror_mode": {
    "name": "ipython",
    "version": 3
   },
   "file_extension": ".py",
   "mimetype": "text/x-python",
   "name": "python",
   "nbconvert_exporter": "python",
   "pygments_lexer": "ipython3",
   "version": "3.13.2"
  }
 },
 "nbformat": 4,
 "nbformat_minor": 5
}
